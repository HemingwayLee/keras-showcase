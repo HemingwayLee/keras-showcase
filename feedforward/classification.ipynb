{
 "cells": [
  {
   "cell_type": "markdown",
   "metadata": {},
   "source": [
    "# Classification sample code\n",
    "The goal is checking an input token is positive or negative\n",
    "\n",
    "# Prepare data"
   ]
  },
  {
   "cell_type": "code",
   "execution_count": 1,
   "metadata": {},
   "outputs": [
    {
     "name": "stderr",
     "output_type": "stream",
     "text": [
      "Using TensorFlow backend.\n"
     ]
    },
    {
     "name": "stdout",
     "output_type": "stream",
     "text": [
      "(18, 200)\n",
      "(18, 2)\n"
     ]
    }
   ],
   "source": [
    "import csv\n",
    "import numpy as np\n",
    "from sklearn.model_selection import train_test_split\n",
    "from gensim.models.keyedvectors import KeyedVectors\n",
    "from keras.layers import Dense,Activation,Dropout\n",
    "from keras.models import Sequential\n",
    "\n",
    "SIZE_OF_W2V = 200\n",
    "W2V = KeyedVectors.load_word2vec_format('../data/embeddings/entity_vector.model.bin', binary=True)\n",
    "\n",
    "def prepare_y(y):\n",
    "    if int(y) == 2:\n",
    "        return [1,0]\n",
    "    else:\n",
    "        return [0,1]\n",
    "    \n",
    "def prepare_x(x):\n",
    "    try:\n",
    "        return W2V[x]\n",
    "    except:\n",
    "        return [0] * SIZE_OF_W2V\n",
    "\n",
    "x_data = []\n",
    "y_data = []\n",
    "\n",
    "with open('../data/training/sentiment.csv') as csvfile:\n",
    "    reader = csv.DictReader(csvfile)\n",
    "    for row in reader:\n",
    "        x_data.append(prepare_x(row[\"x\"]))\n",
    "        y_data.append(prepare_y(row[\"y\"]))\n",
    "        \n",
    "x_data = np.array(x_data)\n",
    "y_data = np.array(y_data)\n",
    "\n",
    "x_train, x_test, y_train, y_test = train_test_split(x_data, y_data, test_size=0.2)\n",
    "\n",
    "print(x_train.shape)\n",
    "print(y_train.shape)"
   ]
  },
  {
   "cell_type": "markdown",
   "metadata": {},
   "source": [
    "# Train model"
   ]
  },
  {
   "cell_type": "code",
   "execution_count": 2,
   "metadata": {},
   "outputs": [
    {
     "name": "stdout",
     "output_type": "stream",
     "text": [
      "WARNING:tensorflow:From /Users/Rosemary/Desktop/code/projects/keras-cheatsheet/venv/lib/python3.7/site-packages/keras/backend/tensorflow_backend.py:66: The name tf.get_default_graph is deprecated. Please use tf.compat.v1.get_default_graph instead.\n",
      "\n",
      "WARNING:tensorflow:From /Users/Rosemary/Desktop/code/projects/keras-cheatsheet/venv/lib/python3.7/site-packages/keras/backend/tensorflow_backend.py:541: The name tf.placeholder is deprecated. Please use tf.compat.v1.placeholder instead.\n",
      "\n",
      "WARNING:tensorflow:From /Users/Rosemary/Desktop/code/projects/keras-cheatsheet/venv/lib/python3.7/site-packages/keras/backend/tensorflow_backend.py:4432: The name tf.random_uniform is deprecated. Please use tf.random.uniform instead.\n",
      "\n",
      "WARNING:tensorflow:From /Users/Rosemary/Desktop/code/projects/keras-cheatsheet/venv/lib/python3.7/site-packages/keras/backend/tensorflow_backend.py:148: The name tf.placeholder_with_default is deprecated. Please use tf.compat.v1.placeholder_with_default instead.\n",
      "\n",
      "WARNING:tensorflow:From /Users/Rosemary/Desktop/code/projects/keras-cheatsheet/venv/lib/python3.7/site-packages/keras/backend/tensorflow_backend.py:3733: calling dropout (from tensorflow.python.ops.nn_ops) with keep_prob is deprecated and will be removed in a future version.\n",
      "Instructions for updating:\n",
      "Please use `rate` instead of `keep_prob`. Rate should be set to `rate = 1 - keep_prob`.\n",
      "WARNING:tensorflow:From /Users/Rosemary/Desktop/code/projects/keras-cheatsheet/venv/lib/python3.7/site-packages/keras/optimizers.py:793: The name tf.train.Optimizer is deprecated. Please use tf.compat.v1.train.Optimizer instead.\n",
      "\n",
      "WARNING:tensorflow:From /Users/Rosemary/Desktop/code/projects/keras-cheatsheet/venv/lib/python3.7/site-packages/keras/backend/tensorflow_backend.py:3657: The name tf.log is deprecated. Please use tf.math.log instead.\n",
      "\n",
      "WARNING:tensorflow:From /Users/Rosemary/Desktop/code/projects/keras-cheatsheet/venv/lib/python3.7/site-packages/tensorflow/python/ops/nn_impl.py:180: add_dispatch_support.<locals>.wrapper (from tensorflow.python.ops.array_ops) is deprecated and will be removed in a future version.\n",
      "Instructions for updating:\n",
      "Use tf.where in 2.0, which has the same broadcast rule as np.where\n",
      "Epoch 1/10\n",
      "18/18 [==============================] - 1s 39ms/step - loss: 0.8683 - acc: 0.5000\n",
      "Epoch 2/10\n",
      "18/18 [==============================] - 0s 5ms/step - loss: 0.4811 - acc: 0.7500\n",
      "Epoch 3/10\n",
      "18/18 [==============================] - 0s 5ms/step - loss: 0.3237 - acc: 0.8056\n",
      "Epoch 4/10\n",
      "18/18 [==============================] - 0s 4ms/step - loss: 0.1884 - acc: 0.9722\n",
      "Epoch 5/10\n",
      "18/18 [==============================] - 0s 3ms/step - loss: 0.1911 - acc: 0.9444\n",
      "Epoch 6/10\n",
      "18/18 [==============================] - 0s 3ms/step - loss: 0.1156 - acc: 0.9444\n",
      "Epoch 7/10\n",
      "18/18 [==============================] - 0s 4ms/step - loss: 0.0632 - acc: 1.0000\n",
      "Epoch 8/10\n",
      "18/18 [==============================] - 0s 4ms/step - loss: 0.0718 - acc: 1.0000\n",
      "Epoch 9/10\n",
      "18/18 [==============================] - 0s 3ms/step - loss: 0.0806 - acc: 1.0000\n",
      "Epoch 10/10\n",
      "18/18 [==============================] - 0s 3ms/step - loss: 0.0698 - acc: 1.0000\n"
     ]
    },
    {
     "data": {
      "text/plain": [
       "<keras.callbacks.History at 0x1122195d0>"
      ]
     },
     "execution_count": 2,
     "metadata": {},
     "output_type": "execute_result"
    }
   ],
   "source": [
    "def create_model(input_length):\n",
    "    model = Sequential()\n",
    "    model.add(Dense(SIZE_OF_W2V, input_dim=SIZE_OF_W2V))\n",
    "    model.add(Activation('relu'))\n",
    "    model.add(Dropout(0.25))\n",
    "    model.add(Dense(64))\n",
    "    model.add(Activation('relu'))\n",
    "    model.add(Dropout(0.25))\n",
    "    model.add(Dense(2))\n",
    "    model.add(Activation('sigmoid'))\n",
    "    model.compile(optimizer='adam',loss='binary_crossentropy',metrics=['accuracy'])\n",
    "\n",
    "    return model\n",
    "\n",
    "model = create_model(len(x_train))\n",
    "model.fit(x_train, y_train, batch_size=1, epochs=10, verbose=1)"
   ]
  },
  {
   "cell_type": "markdown",
   "metadata": {},
   "source": [
    "# Test"
   ]
  },
  {
   "cell_type": "code",
   "execution_count": 3,
   "metadata": {},
   "outputs": [
    {
     "name": "stdout",
     "output_type": "stream",
     "text": [
      "5/5 [==============================] - 0s 16ms/step\n",
      "error: 0.12244538962841034, accuracy: 1.0\n"
     ]
    }
   ],
   "source": [
    "results = model.evaluate(x_test, y_test)\n",
    "print(f\"error: {results[0]}, accuracy: {results[1]}\")"
   ]
  },
  {
   "cell_type": "markdown",
   "metadata": {},
   "source": [
    "# Predict"
   ]
  },
  {
   "cell_type": "code",
   "execution_count": 4,
   "metadata": {},
   "outputs": [
    {
     "name": "stdout",
     "output_type": "stream",
     "text": [
      "[[0.33617374 0.7034423 ]]\n",
      "好い is postive \n",
      "\n",
      "[[9.9992287e-01 2.3520677e-05]]\n",
      "邪悪 is negative \n",
      "\n",
      "[[0.19780168 0.78985876]]\n",
      "ナイス is postive \n",
      "\n",
      "[[0.995552   0.00196384]]\n",
      "堕落 is negative \n",
      "\n"
     ]
    }
   ],
   "source": [
    "def translate_y(y):\n",
    "    print(y)\n",
    "    if y.flat[0] >= y.flat[1]:\n",
    "        return \"negative\"\n",
    "    else:\n",
    "        return \"postive\"\n",
    "        \n",
    "def do_prediction(x):\n",
    "    label = translate_y(model.predict(np.array(prepare_x(x)).reshape(1,-1)))\n",
    "    print(f\"{x} is {label} \\n\")\n",
    "\n",
    "do_prediction(\"好い\")\n",
    "do_prediction(\"邪悪\")\n",
    "do_prediction(\"ナイス\")\n",
    "do_prediction(\"堕落\")"
   ]
  }
 ],
 "metadata": {
  "kernelspec": {
   "display_name": "venv",
   "language": "python",
   "name": "venv"
  },
  "language_info": {
   "codemirror_mode": {
    "name": "ipython",
    "version": 3
   },
   "file_extension": ".py",
   "mimetype": "text/x-python",
   "name": "python",
   "nbconvert_exporter": "python",
   "pygments_lexer": "ipython3",
   "version": "3.7.4"
  }
 },
 "nbformat": 4,
 "nbformat_minor": 2
}
