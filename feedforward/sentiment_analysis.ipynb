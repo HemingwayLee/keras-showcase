{
 "cells": [
  {
   "cell_type": "markdown",
   "metadata": {},
   "source": [
    "# Classification sample code\n",
    "The goal is checking an input token is positive or negative\n",
    "\n",
    "## Prerequisite\n",
    "* Download and uncompress the file to get `entity_vector.model.bin` from http://www.cl.ecei.tohoku.ac.jp/~m-suzuki/jawiki_vector/  \n",
    "\n",
    "* Move `entity_vector.model.bin` to `data/embeddings/` folder\n",
    "\n",
    "# Prepare data"
   ]
  },
  {
   "cell_type": "code",
   "execution_count": 2,
   "metadata": {},
   "outputs": [
    {
     "name": "stdout",
     "output_type": "stream",
     "text": [
      "(18, 200)\n",
      "(18, 2)\n"
     ]
    }
   ],
   "source": [
    "import csv\n",
    "import numpy as np\n",
    "from sklearn.model_selection import train_test_split\n",
    "from gensim.models.keyedvectors import KeyedVectors\n",
    "from keras.layers import Dense,Activation,Dropout\n",
    "from keras.models import Sequential\n",
    "\n",
    "SIZE_OF_W2V = 200\n",
    "W2V = KeyedVectors.load_word2vec_format('../data/embeddings/entity_vector.model.bin', binary=True)\n",
    "\n",
    "def prepare_y(y):\n",
    "    if int(y) == 2:\n",
    "        return [1,0]\n",
    "    else:\n",
    "        return [0,1]\n",
    "    \n",
    "def prepare_x(x):\n",
    "    try:\n",
    "        return W2V[x]\n",
    "    except:\n",
    "        return [0] * SIZE_OF_W2V\n",
    "\n",
    "x_data = []\n",
    "y_data = []\n",
    "\n",
    "with open('../data/training/sentiment.csv') as csvfile:\n",
    "    reader = csv.DictReader(csvfile)\n",
    "    for row in reader:\n",
    "        x_data.append(prepare_x(row[\"x\"]))\n",
    "        y_data.append(prepare_y(row[\"y\"]))\n",
    "        \n",
    "x_data = np.array(x_data)\n",
    "y_data = np.array(y_data)\n",
    "\n",
    "x_train, x_test, y_train, y_test = train_test_split(x_data, y_data, test_size=0.2)\n",
    "\n",
    "print(x_train.shape)\n",
    "print(y_train.shape)"
   ]
  },
  {
   "cell_type": "markdown",
   "metadata": {},
   "source": [
    "# Train model"
   ]
  },
  {
   "cell_type": "code",
   "execution_count": 3,
   "metadata": {},
   "outputs": [
    {
     "name": "stdout",
     "output_type": "stream",
     "text": [
      "WARNING:tensorflow:From /Users/Rosemary/Desktop/code/projects/keras-showcase/venv/lib/python3.7/site-packages/tensorflow/python/ops/nn_impl.py:180: add_dispatch_support.<locals>.wrapper (from tensorflow.python.ops.array_ops) is deprecated and will be removed in a future version.\n",
      "Instructions for updating:\n",
      "Use tf.where in 2.0, which has the same broadcast rule as np.where\n",
      "WARNING:tensorflow:From /Users/Rosemary/Desktop/code/projects/keras-showcase/venv/lib/python3.7/site-packages/keras/backend/tensorflow_backend.py:422: The name tf.global_variables is deprecated. Please use tf.compat.v1.global_variables instead.\n",
      "\n",
      "Epoch 1/10\n",
      "18/18 [==============================] - 0s 18ms/step - loss: 0.7904 - accuracy: 0.6389\n",
      "Epoch 2/10\n",
      "18/18 [==============================] - 0s 2ms/step - loss: 0.4763 - accuracy: 0.7778\n",
      "Epoch 3/10\n",
      "18/18 [==============================] - 0s 3ms/step - loss: 0.2291 - accuracy: 0.9722\n",
      "Epoch 4/10\n",
      "18/18 [==============================] - 0s 3ms/step - loss: 0.1571 - accuracy: 0.9722\n",
      "Epoch 5/10\n",
      "18/18 [==============================] - 0s 4ms/step - loss: 0.2348 - accuracy: 0.9444\n",
      "Epoch 6/10\n",
      "18/18 [==============================] - 0s 4ms/step - loss: 0.0997 - accuracy: 1.0000\n",
      "Epoch 7/10\n",
      "18/18 [==============================] - 0s 3ms/step - loss: 0.1092 - accuracy: 0.9722\n",
      "Epoch 8/10\n",
      "18/18 [==============================] - 0s 2ms/step - loss: 0.0778 - accuracy: 1.0000\n",
      "Epoch 9/10\n",
      "18/18 [==============================] - 0s 3ms/step - loss: 0.0609 - accuracy: 1.0000\n",
      "Epoch 10/10\n",
      "18/18 [==============================] - 0s 3ms/step - loss: 0.0383 - accuracy: 1.0000\n"
     ]
    },
    {
     "data": {
      "text/plain": [
       "<keras.callbacks.callbacks.History at 0x1295a3750>"
      ]
     },
     "execution_count": 3,
     "metadata": {},
     "output_type": "execute_result"
    }
   ],
   "source": [
    "def create_model(input_length):\n",
    "    model = Sequential()\n",
    "    model.add(Dense(SIZE_OF_W2V, input_dim=SIZE_OF_W2V))\n",
    "    model.add(Activation('relu'))\n",
    "    model.add(Dropout(0.25))\n",
    "    model.add(Dense(64))\n",
    "    model.add(Activation('relu'))\n",
    "    model.add(Dropout(0.25))\n",
    "    model.add(Dense(2))\n",
    "    model.add(Activation('sigmoid'))\n",
    "    model.compile(optimizer='adam',loss='binary_crossentropy',metrics=['accuracy'])\n",
    "\n",
    "    return model\n",
    "\n",
    "model = create_model(len(x_train))\n",
    "model.fit(x_train, y_train, batch_size=1, epochs=10, verbose=1)"
   ]
  },
  {
   "cell_type": "markdown",
   "metadata": {},
   "source": [
    "# Test"
   ]
  },
  {
   "cell_type": "code",
   "execution_count": 4,
   "metadata": {},
   "outputs": [
    {
     "name": "stdout",
     "output_type": "stream",
     "text": [
      "5/5 [==============================] - 0s 9ms/step\n",
      "error: 0.7024508714675903, accuracy: 0.6000000238418579\n"
     ]
    }
   ],
   "source": [
    "results = model.evaluate(x_test, y_test)\n",
    "print(f\"error: {results[0]}, accuracy: {results[1]}\")"
   ]
  },
  {
   "cell_type": "markdown",
   "metadata": {},
   "source": [
    "# Predict"
   ]
  },
  {
   "cell_type": "code",
   "execution_count": 5,
   "metadata": {},
   "outputs": [
    {
     "name": "stdout",
     "output_type": "stream",
     "text": [
      "[[0.02864467 0.96477437]]\n",
      "好い is postive \n",
      "\n",
      "[[0.99978644 0.00158434]]\n",
      "邪悪 is negative \n",
      "\n",
      "[[0.00697057 0.991812  ]]\n",
      "ナイス is postive \n",
      "\n",
      "[[0.99359775 0.00222857]]\n",
      "堕落 is negative \n",
      "\n"
     ]
    }
   ],
   "source": [
    "def translate_y(y):\n",
    "    print(y)\n",
    "    if y.flat[0] >= y.flat[1]:\n",
    "        return \"negative\"\n",
    "    else:\n",
    "        return \"postive\"\n",
    "        \n",
    "def do_prediction(x):\n",
    "    label = translate_y(model.predict(np.array(prepare_x(x)).reshape(1,-1)))\n",
    "    print(f\"{x} is {label} \\n\")\n",
    "\n",
    "do_prediction(\"好い\")\n",
    "do_prediction(\"邪悪\")\n",
    "do_prediction(\"ナイス\")\n",
    "do_prediction(\"堕落\")"
   ]
  }
 ],
 "metadata": {
  "kernelspec": {
   "display_name": "venv",
   "language": "python",
   "name": "venv"
  },
  "language_info": {
   "codemirror_mode": {
    "name": "ipython",
    "version": 3
   },
   "file_extension": ".py",
   "mimetype": "text/x-python",
   "name": "python",
   "nbconvert_exporter": "python",
   "pygments_lexer": "ipython3",
   "version": "3.7.4"
  }
 },
 "nbformat": 4,
 "nbformat_minor": 2
}
